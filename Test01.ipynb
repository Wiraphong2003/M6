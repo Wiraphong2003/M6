{
  "metadata": {
    "toc-showcode": true,
    "toc-autonumbering": true,
    "language_info": {
      "codemirror_mode": {
        "name": "python",
        "version": 3
      },
      "file_extension": ".py",
      "mimetype": "text/x-python",
      "name": "python",
      "nbconvert_exporter": "python",
      "pygments_lexer": "ipython3",
      "version": "3.8"
    },
    "kernelspec": {
      "name": "python",
      "display_name": "Python (Pyodide)",
      "language": "python"
    }
  },
  "nbformat_minor": 4,
  "nbformat": 4,
  "cells": [
    {
      "cell_type": "code",
      "source": "import pylab\nfrom random import randrange\nfrom PIL import Image, ImageFont, ImageDraw\nfrom numpy import random\nimport pandas as pd\n",
      "metadata": {
        "slideshow": {
          "slide_type": "slide"
        },
        "tags": [],
        "trusted": true
      },
      "execution_count": 6,
      "outputs": []
    },
    {
      "cell_type": "code",
      "source": "\ntitle_text = \"กระเต็น\"\ntext1 = \"วิ่งรูด\"\ntitle_font1 = ImageFont.truetype('K2D-Bold.ttf', 100)\ntitle_font2 = ImageFont.truetype('K2D-Bold.ttf', 50)\ntitle_font3 = ImageFont.truetype('K2D-Bold.ttf', 30)\nNameHu = [\"ฮานอยปกติ\",\"หวยลาว\",\"หวยหุ้น\",\"หวยยี่กี่\"]\nmy_image1 = Image.open(\"imgverion1.jpg\")\nmy_image2 = Image.open(\"imgverion2.jpg\")\nmy_image3 = Image.open(\"imgverion3.jpg\")\nmy_image4 = Image.open(\"imgverion4.jpg\")\nimgback = [my_image1,my_image2,my_image3,my_image4]\n# text2 = \"ฮานอยปกติ\"\n# for i in range(0, len(NameHu)):\n#     print(NameHu[i])\n#     print(imgback[i])",
      "metadata": {
        "trusted": true
      },
      "execution_count": 7,
      "outputs": []
    },
    {
      "cell_type": "code",
      "source": "j=0\nfor i in range(0, len(NameHu)): \n    A1 = randrange(100)\n    A2 = randrange(100)\n    A11 = list(str(A1))\n    A22 = list(str(A2))\n    A1_1 = str(A11[0])+str(randrange(10))\n    A1_2 = str(A11[0])+str(randrange(10))\n    A1_3 = str(A11[0])+str(randrange(10))\n    A1_4 = str(A11[0])+str(randrange(10))\n    A2_1 = str(A22[0])+str(randrange(10))\n    A2_2 = str(A22[0])+str(randrange(10))\n    A2_3 = str(A22[0])+str(randrange(10))\n    A2_4 = str(A22[0])+str(randrange(10))\n    A111 = [A1_1,A1_2,A1_3,A1_4]\n    A222 = [A2_1,A2_2,A2_3,A2_4]\n    ABidnex3 = [A1_1,A1_2,A1_3,A1_4,A2_1,A2_2,A2_3,A2_4] \n    idnex3_1 = random.choice(ABidnex3)\n    idnex3_2 = random.choice(ABidnex3)\n    idnex3_3 = random.choice(ABidnex3)\n    if(idnex3_1 == idnex3_2):\n        idnex3_2 = random.choice(ABidnex3)\n        if(idnex3_2 == idnex3_1):\n            idnex3_2 = random.choice(ABidnex3)\n    elif(idnex3_2 == idnex3_3):\n        idnex3_3 = random.choice(ABidnex3)\n        if(idnex3_3==idnex3_2):\n            idnex3_2 = random.choice(ABidnex3)\n\n    if(idnex3_1 == idnex3_3):\n            idnex3_3 =  random.choice(ABidnex3)\n            if(idnex3_3==idnex3_1):\n                idnex3_3 = random.choice(ABidnex3)\n\n    index333 = [idnex3_1,idnex3_2,idnex3_3]\n\n    print('A1:%d\\tA2:%d\\n'%(A1,A2))\n    print(\"A:  %s\\t%s\\t%s\\t%s\\n\"%(A1_1,A1_2,A1_3,A1_4))\n    print(\"B:  %s\\t%s\\t%s\\t%s\\n\"%(A2_1,A2_2,A2_3,A2_4))\n    print(A111)\n    print(A222)\n    print(index333)\n    \n    # ==========================================================================================\n    \n    # print(NameHu[i],imgback[i]) \n    image_editable = ImageDraw.Draw(imgback[j])\n    # print('\\n')\n    image_editable.text((250,60),title_text , (255, 195, 0 ), font=title_font1)\n    image_editable.text((210,200), str(A1), (255, 195, 0 ), font=title_font2)\n    image_editable.text((350,200), str(text1), (255, 195, 0 ), font=title_font2)\n    image_editable.text((550,200), str(A2), (255, 195, 0 ), font=title_font2)\n\n    for i in range(0, len(A111)):    \n        temp = i*100\n        image_editable.text((250+temp,300), A111[i], (255, 195, 0 ), font=title_font3)\n\n    for i in range(0, len(A222)):    \n        temp = i*100\n        image_editable.text((250+temp,350), A222[i], (255, 195, 0 ), font=title_font3)\n\n    for i in range(0, len(index333)):    \n        temp = i*100\n        image_editable.text((300+temp,500), index333[i], (255, 195, 0 ), font=title_font3)\n        \n    # print(NameHu[i],imgback[i]) \n    image_editable.text((340,600), NameHu[j], (255, 195, 0 ), font=title_font3)\n    imgback[j].save(\"img%d.jpg\"%(j))\n    j=j+1\n    print(i)\n    print('\\n\\n\\n')\n    \nprint('Seccess full%d'%(i))",
      "metadata": {
        "trusted": true
      },
      "execution_count": 8,
      "outputs": [
        {
          "name": "stdout",
          "text": "A1:30\tA2:39\n\nA:  35\t35\t31\t30\n\nB:  39\t36\t35\t37\n\n['35', '35', '31', '30']\n['39', '36', '35', '37']\n['36', '31', '35']\n2\n\n\n\n\nA1:17\tA2:97\n\nA:  19\t15\t17\t12\n\nB:  95\t90\t93\t92\n\n['19', '15', '17', '12']\n['95', '90', '93', '92']\n['90', '19', '15']\n2\n\n\n\n\nA1:7\tA2:24\n\nA:  70\t71\t79\t79\n\nB:  27\t23\t25\t26\n\n['70', '71', '79', '79']\n['27', '23', '25', '26']\n['26', '23', '79']\n2\n\n\n\n\nA1:97\tA2:66\n\nA:  96\t91\t91\t95\n\nB:  62\t67\t68\t63\n\n['96', '91', '91', '95']\n['62', '67', '68', '63']\n['91', '95', '67']\n2\n\n\n\n\nSeccess full2\n",
          "output_type": "stream"
        }
      ]
    },
    {
      "cell_type": "code",
      "source": "",
      "metadata": {},
      "execution_count": null,
      "outputs": []
    }
  ]
}